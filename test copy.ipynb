{
 "cells": [
  {
   "cell_type": "code",
   "execution_count": 2,
   "metadata": {},
   "outputs": [
    {
     "name": "stdout",
     "output_type": "stream",
     "text": [
      "Media ID: 1829914557298495488\n",
      "Tweet posted successfully! Tweet ID: 1829914560364528031\n"
     ]
    }
   ],
   "source": [
    "import tweepy\n",
    "import os\n",
    "\n",
    "def post_tweet(title, url, image_path, twitter_handles):\n",
    "    # Twitter API credentials\n",
    "    consumer_key = os.getenv(\"TWITTER_API_KEY\")\n",
    "    consumer_secret = os.getenv(\"TWITTER_API_SECRET_KEY\")\n",
    "    access_token = os.getenv(\"TWITTER_ACCESS_TOKEN\")\n",
    "    access_token_secret = os.getenv(\"TWITTER_ACCESS_TOKEN_SECRET\")\n",
    "    bearer_token = os.getenv(\"TWITTER_BEARER_TOKEN\")\n",
    "\n",
    "    # Authenticate with Twitter using API v1.1\n",
    "    auth = tweepy.OAuth1UserHandler(consumer_key, consumer_secret, access_token, access_token_secret)\n",
    "\n",
    "    # Create API object for media upload\n",
    "    api = tweepy.API(auth)\n",
    "\n",
    "    # Create Client object for posting the tweet (v2) with bearer token\n",
    "    client = tweepy.Client(\n",
    "        bearer_token=bearer_token,\n",
    "        consumer_key=consumer_key,\n",
    "        consumer_secret=consumer_secret,\n",
    "        access_token=access_token,\n",
    "        access_token_secret=access_token_secret\n",
    "    )\n",
    "\n",
    "    try:\n",
    "        # Upload image\n",
    "        media = api.media_upload(image_path)\n",
    "\n",
    "        # Print media ID\n",
    "        print(\"Media ID:\", media.media_id)\n",
    "\n",
    "        # Prepare tweet text\n",
    "        tweet_text = f\"🏷️:{title}\\n\\n\"\n",
    "        \n",
    "        # Add Twitter handles if the list is not empty\n",
    "        if twitter_handles:\n",
    "            formatted_handles = \" \".join([f\"@{handle}\" for handle in twitter_handles])\n",
    "            tweet_text += f\"👤:{formatted_handles}\\n\\n\"\n",
    "        \n",
    "        tweet_text += f\"🔗:{url}\"\n",
    "\n",
    "        # Create tweet with uploaded image using Client (v2)\n",
    "        tweet = client.create_tweet(text=tweet_text, media_ids=[media.media_id])\n",
    "\n",
    "        print(\"Tweet posted successfully! Tweet ID:\", tweet.data['id'])\n",
    "\n",
    "    except tweepy.Forbidden as e:\n",
    "        print(\"Error posting tweet:\", e)\n",
    "    except Exception as e:\n",
    "        print(\"An error occurred:\", e)\n",
    "\n",
    "\n",
    "# Set up fake data\n",
    "title = \"Sample Paper Title\"\n",
    "url = \"https://www.biorxiv.org/content/10.1101/2021.01.01.123456v1\"\n",
    "image_path = \"background.jpg\"  # Make sure this path is valid\n",
    "twitter_handles = [\"sample_handle1\", \"sample_handle2\"]\n",
    "\n",
    "# Call the post_tweet function with the fake data\n",
    "post_tweet(title, url, image_path, twitter_handles)"
   ]
  },
  {
   "cell_type": "code",
   "execution_count": null,
   "metadata": {},
   "outputs": [],
   "source": []
  }
 ],
 "metadata": {
  "kernelspec": {
   "display_name": "base",
   "language": "python",
   "name": "python3"
  },
  "language_info": {
   "codemirror_mode": {
    "name": "ipython",
    "version": 3
   },
   "file_extension": ".py",
   "mimetype": "text/x-python",
   "name": "python",
   "nbconvert_exporter": "python",
   "pygments_lexer": "ipython3",
   "version": "3.11.9"
  }
 },
 "nbformat": 4,
 "nbformat_minor": 2
}
